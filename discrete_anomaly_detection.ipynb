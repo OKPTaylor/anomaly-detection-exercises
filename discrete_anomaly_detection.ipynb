{
 "cells": [
  {
   "cell_type": "code",
   "execution_count": 17,
   "metadata": {},
   "outputs": [],
   "source": [
    "#do the data things!\n",
    "import numpy as np\n",
    "import pandas as pd\n",
    "\n",
    "#visualize\n",
    "import matplotlib.pyplot as plt\n",
    "import seaborn as sns\n",
    "from sqlalchemy import text, create_engine\n",
    "\n",
    "#my sql creds\n",
    "import env\n",
    "import os\n",
    "import gen_wrangle1 as gw"
   ]
  },
  {
   "cell_type": "code",
   "execution_count": 18,
   "metadata": {},
   "outputs": [],
   "source": [
    "sql_query = \"select * from api_access\"\n",
    "directory = os.getcwd()\n",
    "url_for_query = gw.get_db_url(\"logs\")\n",
    "filename = \"api_access.csv\""
   ]
  },
  {
   "cell_type": "code",
   "execution_count": 19,
   "metadata": {},
   "outputs": [
    {
     "name": "stdout",
     "output_type": "stream",
     "text": [
      "csv found and loaded\n"
     ]
    },
    {
     "data": {
      "text/html": [
       "<div>\n",
       "<style scoped>\n",
       "    .dataframe tbody tr th:only-of-type {\n",
       "        vertical-align: middle;\n",
       "    }\n",
       "\n",
       "    .dataframe tbody tr th {\n",
       "        vertical-align: top;\n",
       "    }\n",
       "\n",
       "    .dataframe thead th {\n",
       "        text-align: right;\n",
       "    }\n",
       "</style>\n",
       "<table border=\"1\" class=\"dataframe\">\n",
       "  <thead>\n",
       "    <tr style=\"text-align: right;\">\n",
       "      <th></th>\n",
       "      <th>Unnamed: 0</th>\n",
       "      <th>entry</th>\n",
       "    </tr>\n",
       "  </thead>\n",
       "  <tbody>\n",
       "    <tr>\n",
       "      <th>0</th>\n",
       "      <td>0</td>\n",
       "      <td>97.105.19.58 - - [16/Apr/2019:19:34:42 +0000] ...</td>\n",
       "    </tr>\n",
       "    <tr>\n",
       "      <th>1</th>\n",
       "      <td>1</td>\n",
       "      <td>97.105.19.58 - - [16/Apr/2019:19:34:42 +0000] ...</td>\n",
       "    </tr>\n",
       "    <tr>\n",
       "      <th>2</th>\n",
       "      <td>2</td>\n",
       "      <td>97.105.19.58 - - [16/Apr/2019:19:34:44 +0000] ...</td>\n",
       "    </tr>\n",
       "    <tr>\n",
       "      <th>3</th>\n",
       "      <td>3</td>\n",
       "      <td>97.105.19.58 - - [16/Apr/2019:19:34:46 +0000] ...</td>\n",
       "    </tr>\n",
       "    <tr>\n",
       "      <th>4</th>\n",
       "      <td>4</td>\n",
       "      <td>97.105.19.58 - - [16/Apr/2019:19:34:48 +0000] ...</td>\n",
       "    </tr>\n",
       "    <tr>\n",
       "      <th>...</th>\n",
       "      <td>...</td>\n",
       "      <td>...</td>\n",
       "    </tr>\n",
       "    <tr>\n",
       "      <th>13969</th>\n",
       "      <td>13969</td>\n",
       "      <td>97.105.19.58 - - [17/Apr/2019:12:55:12 +0000] ...</td>\n",
       "    </tr>\n",
       "    <tr>\n",
       "      <th>13970</th>\n",
       "      <td>13970</td>\n",
       "      <td>97.105.19.58 - - [17/Apr/2019:12:55:12 +0000] ...</td>\n",
       "    </tr>\n",
       "    <tr>\n",
       "      <th>13971</th>\n",
       "      <td>13971</td>\n",
       "      <td>97.105.19.58 - - [17/Apr/2019:12:55:13 +0000] ...</td>\n",
       "    </tr>\n",
       "    <tr>\n",
       "      <th>13972</th>\n",
       "      <td>13972</td>\n",
       "      <td>97.105.19.58 - - [17/Apr/2019:12:55:13 +0000] ...</td>\n",
       "    </tr>\n",
       "    <tr>\n",
       "      <th>13973</th>\n",
       "      <td>13973</td>\n",
       "      <td>97.105.19.58 - - [17/Apr/2019:12:55:14 +0000] ...</td>\n",
       "    </tr>\n",
       "  </tbody>\n",
       "</table>\n",
       "<p>13974 rows × 2 columns</p>\n",
       "</div>"
      ],
      "text/plain": [
       "       Unnamed: 0                                              entry\n",
       "0               0  97.105.19.58 - - [16/Apr/2019:19:34:42 +0000] ...\n",
       "1               1  97.105.19.58 - - [16/Apr/2019:19:34:42 +0000] ...\n",
       "2               2  97.105.19.58 - - [16/Apr/2019:19:34:44 +0000] ...\n",
       "3               3  97.105.19.58 - - [16/Apr/2019:19:34:46 +0000] ...\n",
       "4               4  97.105.19.58 - - [16/Apr/2019:19:34:48 +0000] ...\n",
       "...           ...                                                ...\n",
       "13969       13969  97.105.19.58 - - [17/Apr/2019:12:55:12 +0000] ...\n",
       "13970       13970  97.105.19.58 - - [17/Apr/2019:12:55:12 +0000] ...\n",
       "13971       13971  97.105.19.58 - - [17/Apr/2019:12:55:13 +0000] ...\n",
       "13972       13972  97.105.19.58 - - [17/Apr/2019:12:55:13 +0000] ...\n",
       "13973       13973  97.105.19.58 - - [17/Apr/2019:12:55:14 +0000] ...\n",
       "\n",
       "[13974 rows x 2 columns]"
      ]
     },
     "execution_count": 19,
     "metadata": {},
     "output_type": "execute_result"
    }
   ],
   "source": [
    "gw.get_sql_data(sql_query, url_for_query, filename)"
   ]
  },
  {
   "cell_type": "code",
   "execution_count": 20,
   "metadata": {},
   "outputs": [],
   "source": [
    "df= pd.read_csv(\"api_access.csv\")"
   ]
  },
  {
   "cell_type": "code",
   "execution_count": 21,
   "metadata": {},
   "outputs": [
    {
     "data": {
      "text/html": [
       "<div>\n",
       "<style scoped>\n",
       "    .dataframe tbody tr th:only-of-type {\n",
       "        vertical-align: middle;\n",
       "    }\n",
       "\n",
       "    .dataframe tbody tr th {\n",
       "        vertical-align: top;\n",
       "    }\n",
       "\n",
       "    .dataframe thead th {\n",
       "        text-align: right;\n",
       "    }\n",
       "</style>\n",
       "<table border=\"1\" class=\"dataframe\">\n",
       "  <thead>\n",
       "    <tr style=\"text-align: right;\">\n",
       "      <th></th>\n",
       "      <th>Unnamed: 0</th>\n",
       "      <th>entry</th>\n",
       "    </tr>\n",
       "  </thead>\n",
       "  <tbody>\n",
       "    <tr>\n",
       "      <th>0</th>\n",
       "      <td>0</td>\n",
       "      <td>97.105.19.58 - - [16/Apr/2019:19:34:42 +0000] ...</td>\n",
       "    </tr>\n",
       "    <tr>\n",
       "      <th>1</th>\n",
       "      <td>1</td>\n",
       "      <td>97.105.19.58 - - [16/Apr/2019:19:34:42 +0000] ...</td>\n",
       "    </tr>\n",
       "    <tr>\n",
       "      <th>2</th>\n",
       "      <td>2</td>\n",
       "      <td>97.105.19.58 - - [16/Apr/2019:19:34:44 +0000] ...</td>\n",
       "    </tr>\n",
       "    <tr>\n",
       "      <th>3</th>\n",
       "      <td>3</td>\n",
       "      <td>97.105.19.58 - - [16/Apr/2019:19:34:46 +0000] ...</td>\n",
       "    </tr>\n",
       "    <tr>\n",
       "      <th>4</th>\n",
       "      <td>4</td>\n",
       "      <td>97.105.19.58 - - [16/Apr/2019:19:34:48 +0000] ...</td>\n",
       "    </tr>\n",
       "  </tbody>\n",
       "</table>\n",
       "</div>"
      ],
      "text/plain": [
       "   Unnamed: 0                                              entry\n",
       "0           0  97.105.19.58 - - [16/Apr/2019:19:34:42 +0000] ...\n",
       "1           1  97.105.19.58 - - [16/Apr/2019:19:34:42 +0000] ...\n",
       "2           2  97.105.19.58 - - [16/Apr/2019:19:34:44 +0000] ...\n",
       "3           3  97.105.19.58 - - [16/Apr/2019:19:34:46 +0000] ...\n",
       "4           4  97.105.19.58 - - [16/Apr/2019:19:34:48 +0000] ..."
      ]
     },
     "execution_count": 21,
     "metadata": {},
     "output_type": "execute_result"
    }
   ],
   "source": [
    "df.head()"
   ]
  },
  {
   "cell_type": "code",
   "execution_count": 22,
   "metadata": {},
   "outputs": [
    {
     "data": {
      "text/plain": [
       "'97.105.19.58 - - [16/Apr/2019:19:34:42 +0000] \"GET /api/v1/sales?page=81 HTTP/1.1\" 200 512495 \"-\" \"python-requests/2.21.0\"'"
      ]
     },
     "execution_count": 22,
     "metadata": {},
     "output_type": "execute_result"
    }
   ],
   "source": [
    "#accessing the first entry\n",
    "df.entry[0]"
   ]
  },
  {
   "cell_type": "code",
   "execution_count": 23,
   "metadata": {},
   "outputs": [
    {
     "name": "stdout",
     "output_type": "stream",
     "text": [
      "<class 'pandas.core.frame.DataFrame'>\n",
      "RangeIndex: 13974 entries, 0 to 13973\n",
      "Data columns (total 2 columns):\n",
      " #   Column      Non-Null Count  Dtype \n",
      "---  ------      --------------  ----- \n",
      " 0   Unnamed: 0  13974 non-null  int64 \n",
      " 1   entry       13974 non-null  object\n",
      "dtypes: int64(1), object(1)\n",
      "memory usage: 218.5+ KB\n"
     ]
    }
   ],
   "source": [
    "df.info()"
   ]
  },
  {
   "cell_type": "code",
   "execution_count": 24,
   "metadata": {},
   "outputs": [],
   "source": [
    "#function to deal with parsing one entry in our log data by splitting on the spaces \n",
    "#this function works on one string\n",
    "def parse_log_entry(entry):\n",
    "    parts = entry.split()\n",
    "    output = {}\n",
    "    output['ip'] = parts[0]\n",
    "    output['timestamp'] = parts[3][1:].replace(':', ' ', 1)\n",
    "    output['request_method'] = parts[5][1:]\n",
    "    output['request_path'] = parts[6]\n",
    "    output['http_version'] = parts[7][:-1]\n",
    "    output['status_code'] = parts[8]\n",
    "    output['size'] = int(parts[9])\n",
    "    output['user_agent'] = ' '.join(parts[11:]).strip('\"')\n",
    "    return pd.Series(output)"
   ]
  },
  {
   "cell_type": "code",
   "execution_count": 25,
   "metadata": {},
   "outputs": [],
   "source": [
    "#this function works on a dataframe to parse all entries by calling the function above\n",
    "#.entry is the column name and .apply applies the function to each entry in the column\n",
    "df=df.entry.apply(parse_log_entry)\n"
   ]
  },
  {
   "cell_type": "code",
   "execution_count": 26,
   "metadata": {},
   "outputs": [
    {
     "data": {
      "text/html": [
       "<div>\n",
       "<style scoped>\n",
       "    .dataframe tbody tr th:only-of-type {\n",
       "        vertical-align: middle;\n",
       "    }\n",
       "\n",
       "    .dataframe tbody tr th {\n",
       "        vertical-align: top;\n",
       "    }\n",
       "\n",
       "    .dataframe thead th {\n",
       "        text-align: right;\n",
       "    }\n",
       "</style>\n",
       "<table border=\"1\" class=\"dataframe\">\n",
       "  <thead>\n",
       "    <tr style=\"text-align: right;\">\n",
       "      <th></th>\n",
       "      <th>ip</th>\n",
       "      <th>timestamp</th>\n",
       "      <th>request_method</th>\n",
       "      <th>request_path</th>\n",
       "      <th>http_version</th>\n",
       "      <th>status_code</th>\n",
       "      <th>size</th>\n",
       "      <th>user_agent</th>\n",
       "    </tr>\n",
       "  </thead>\n",
       "  <tbody>\n",
       "    <tr>\n",
       "      <th>0</th>\n",
       "      <td>97.105.19.58</td>\n",
       "      <td>16/Apr/2019 19:34:42</td>\n",
       "      <td>GET</td>\n",
       "      <td>/api/v1/sales?page=81</td>\n",
       "      <td>HTTP/1.1</td>\n",
       "      <td>200</td>\n",
       "      <td>512495</td>\n",
       "      <td>python-requests/2.21.0</td>\n",
       "    </tr>\n",
       "    <tr>\n",
       "      <th>1</th>\n",
       "      <td>97.105.19.58</td>\n",
       "      <td>16/Apr/2019 19:34:42</td>\n",
       "      <td>GET</td>\n",
       "      <td>/api/v1/items</td>\n",
       "      <td>HTTP/1.1</td>\n",
       "      <td>200</td>\n",
       "      <td>3561</td>\n",
       "      <td>python-requests/2.21.0</td>\n",
       "    </tr>\n",
       "    <tr>\n",
       "      <th>2</th>\n",
       "      <td>97.105.19.58</td>\n",
       "      <td>16/Apr/2019 19:34:44</td>\n",
       "      <td>GET</td>\n",
       "      <td>/api/v1/sales?page=82</td>\n",
       "      <td>HTTP/1.1</td>\n",
       "      <td>200</td>\n",
       "      <td>510103</td>\n",
       "      <td>python-requests/2.21.0</td>\n",
       "    </tr>\n",
       "    <tr>\n",
       "      <th>3</th>\n",
       "      <td>97.105.19.58</td>\n",
       "      <td>16/Apr/2019 19:34:46</td>\n",
       "      <td>GET</td>\n",
       "      <td>/api/v1/sales?page=83</td>\n",
       "      <td>HTTP/1.1</td>\n",
       "      <td>200</td>\n",
       "      <td>510003</td>\n",
       "      <td>python-requests/2.21.0</td>\n",
       "    </tr>\n",
       "    <tr>\n",
       "      <th>4</th>\n",
       "      <td>97.105.19.58</td>\n",
       "      <td>16/Apr/2019 19:34:48</td>\n",
       "      <td>GET</td>\n",
       "      <td>/api/v1/sales?page=84</td>\n",
       "      <td>HTTP/1.1</td>\n",
       "      <td>200</td>\n",
       "      <td>511963</td>\n",
       "      <td>python-requests/2.21.0</td>\n",
       "    </tr>\n",
       "  </tbody>\n",
       "</table>\n",
       "</div>"
      ],
      "text/plain": [
       "             ip             timestamp request_method           request_path  \\\n",
       "0  97.105.19.58  16/Apr/2019 19:34:42            GET  /api/v1/sales?page=81   \n",
       "1  97.105.19.58  16/Apr/2019 19:34:42            GET          /api/v1/items   \n",
       "2  97.105.19.58  16/Apr/2019 19:34:44            GET  /api/v1/sales?page=82   \n",
       "3  97.105.19.58  16/Apr/2019 19:34:46            GET  /api/v1/sales?page=83   \n",
       "4  97.105.19.58  16/Apr/2019 19:34:48            GET  /api/v1/sales?page=84   \n",
       "\n",
       "  http_version status_code    size              user_agent  \n",
       "0     HTTP/1.1         200  512495  python-requests/2.21.0  \n",
       "1     HTTP/1.1         200    3561  python-requests/2.21.0  \n",
       "2     HTTP/1.1         200  510103  python-requests/2.21.0  \n",
       "3     HTTP/1.1         200  510003  python-requests/2.21.0  \n",
       "4     HTTP/1.1         200  511963  python-requests/2.21.0  "
      ]
     },
     "execution_count": 26,
     "metadata": {},
     "output_type": "execute_result"
    }
   ],
   "source": [
    "df.head()"
   ]
  },
  {
   "attachments": {},
   "cell_type": "markdown",
   "metadata": {},
   "source": [
    "### Detecting Anomalies in Discrete Variables\n",
    "* get a count of the discrete var\n",
    "* get the frequency \n",
    "* visualize it\n",
    "* get the conditional probability"
   ]
  },
  {
   "cell_type": "code",
   "execution_count": 27,
   "metadata": {},
   "outputs": [
    {
     "data": {
      "text/plain": [
       "97.105.19.58      11998\n",
       "173.173.113.51     1059\n",
       "72.181.113.170      613\n",
       "72.181.105.81       246\n",
       "68.201.219.223       21\n",
       "24.26.242.9          21\n",
       "52.87.230.102         2\n",
       "35.175.171.137        2\n",
       "70.121.214.34         2\n",
       "54.172.14.223         1\n",
       "52.91.30.150          1\n",
       "54.145.52.184         1\n",
       "35.174.209.2          1\n",
       "45.23.250.16          1\n",
       "3.92.201.136          1\n",
       "52.90.165.200         1\n",
       "34.229.70.250         1\n",
       "3.88.129.158          1\n",
       "34.207.64.242         1\n",
       "Name: ip, dtype: int64"
      ]
     },
     "execution_count": 27,
     "metadata": {},
     "output_type": "execute_result"
    }
   ],
   "source": [
    "#count\n",
    "df.ip.value_counts()"
   ]
  },
  {
   "cell_type": "code",
   "execution_count": 31,
   "metadata": {},
   "outputs": [],
   "source": [
    "#for convenience create a new dataframe with the ip counts\n",
    "ip_counts = df.ip.value_counts().reset_index().rename(columns={'index': 'ip', 'ip': 'ip_count'})\n"
   ]
  },
  {
   "cell_type": "code",
   "execution_count": 32,
   "metadata": {},
   "outputs": [
    {
     "data": {
      "text/html": [
       "<div>\n",
       "<style scoped>\n",
       "    .dataframe tbody tr th:only-of-type {\n",
       "        vertical-align: middle;\n",
       "    }\n",
       "\n",
       "    .dataframe tbody tr th {\n",
       "        vertical-align: top;\n",
       "    }\n",
       "\n",
       "    .dataframe thead th {\n",
       "        text-align: right;\n",
       "    }\n",
       "</style>\n",
       "<table border=\"1\" class=\"dataframe\">\n",
       "  <thead>\n",
       "    <tr style=\"text-align: right;\">\n",
       "      <th></th>\n",
       "      <th>ip</th>\n",
       "      <th>ip_count</th>\n",
       "    </tr>\n",
       "  </thead>\n",
       "  <tbody>\n",
       "    <tr>\n",
       "      <th>0</th>\n",
       "      <td>97.105.19.58</td>\n",
       "      <td>11998</td>\n",
       "    </tr>\n",
       "    <tr>\n",
       "      <th>1</th>\n",
       "      <td>173.173.113.51</td>\n",
       "      <td>1059</td>\n",
       "    </tr>\n",
       "    <tr>\n",
       "      <th>2</th>\n",
       "      <td>72.181.113.170</td>\n",
       "      <td>613</td>\n",
       "    </tr>\n",
       "    <tr>\n",
       "      <th>3</th>\n",
       "      <td>72.181.105.81</td>\n",
       "      <td>246</td>\n",
       "    </tr>\n",
       "    <tr>\n",
       "      <th>4</th>\n",
       "      <td>68.201.219.223</td>\n",
       "      <td>21</td>\n",
       "    </tr>\n",
       "  </tbody>\n",
       "</table>\n",
       "</div>"
      ],
      "text/plain": [
       "               ip  ip_count\n",
       "0    97.105.19.58     11998\n",
       "1  173.173.113.51      1059\n",
       "2  72.181.113.170       613\n",
       "3   72.181.105.81       246\n",
       "4  68.201.219.223        21"
      ]
     },
     "execution_count": 32,
     "metadata": {},
     "output_type": "execute_result"
    }
   ],
   "source": [
    "ip_counts.head()    "
   ]
  },
  {
   "cell_type": "code",
   "execution_count": 34,
   "metadata": {},
   "outputs": [
    {
     "data": {
      "text/plain": [
       "97.105.19.58      0.858595\n",
       "173.173.113.51    0.075784\n",
       "72.181.113.170    0.043867\n",
       "72.181.105.81     0.017604\n",
       "68.201.219.223    0.001503\n",
       "24.26.242.9       0.001503\n",
       "52.87.230.102     0.000143\n",
       "35.175.171.137    0.000143\n",
       "70.121.214.34     0.000143\n",
       "54.172.14.223     0.000072\n",
       "52.91.30.150      0.000072\n",
       "54.145.52.184     0.000072\n",
       "35.174.209.2      0.000072\n",
       "45.23.250.16      0.000072\n",
       "3.92.201.136      0.000072\n",
       "52.90.165.200     0.000072\n",
       "34.229.70.250     0.000072\n",
       "3.88.129.158      0.000072\n",
       "34.207.64.242     0.000072\n",
       "Name: ip, dtype: float64"
      ]
     },
     "execution_count": 34,
     "metadata": {},
     "output_type": "execute_result"
    }
   ],
   "source": [
    "#git the frequency of each ip address via the value_counts method with normalize=True\n",
    "df.ip.value_counts(normalize=True)"
   ]
  },
  {
   "cell_type": "code",
   "execution_count": 35,
   "metadata": {},
   "outputs": [],
   "source": [
    "#save the frequency of each ip address in a new dataframe\n",
    "ip_freq = df.ip.value_counts(normalize=True).reset_index().rename(columns={'index': 'ip', 'ip': 'ip_percent'})"
   ]
  },
  {
   "cell_type": "code",
   "execution_count": 36,
   "metadata": {},
   "outputs": [
    {
     "data": {
      "text/html": [
       "<div>\n",
       "<style scoped>\n",
       "    .dataframe tbody tr th:only-of-type {\n",
       "        vertical-align: middle;\n",
       "    }\n",
       "\n",
       "    .dataframe tbody tr th {\n",
       "        vertical-align: top;\n",
       "    }\n",
       "\n",
       "    .dataframe thead th {\n",
       "        text-align: right;\n",
       "    }\n",
       "</style>\n",
       "<table border=\"1\" class=\"dataframe\">\n",
       "  <thead>\n",
       "    <tr style=\"text-align: right;\">\n",
       "      <th></th>\n",
       "      <th>ip</th>\n",
       "      <th>ip_percent</th>\n",
       "    </tr>\n",
       "  </thead>\n",
       "  <tbody>\n",
       "    <tr>\n",
       "      <th>0</th>\n",
       "      <td>97.105.19.58</td>\n",
       "      <td>0.858595</td>\n",
       "    </tr>\n",
       "    <tr>\n",
       "      <th>1</th>\n",
       "      <td>173.173.113.51</td>\n",
       "      <td>0.075784</td>\n",
       "    </tr>\n",
       "    <tr>\n",
       "      <th>2</th>\n",
       "      <td>72.181.113.170</td>\n",
       "      <td>0.043867</td>\n",
       "    </tr>\n",
       "    <tr>\n",
       "      <th>3</th>\n",
       "      <td>72.181.105.81</td>\n",
       "      <td>0.017604</td>\n",
       "    </tr>\n",
       "    <tr>\n",
       "      <th>4</th>\n",
       "      <td>68.201.219.223</td>\n",
       "      <td>0.001503</td>\n",
       "    </tr>\n",
       "  </tbody>\n",
       "</table>\n",
       "</div>"
      ],
      "text/plain": [
       "               ip  ip_percent\n",
       "0    97.105.19.58    0.858595\n",
       "1  173.173.113.51    0.075784\n",
       "2  72.181.113.170    0.043867\n",
       "3   72.181.105.81    0.017604\n",
       "4  68.201.219.223    0.001503"
      ]
     },
     "execution_count": 36,
     "metadata": {},
     "output_type": "execute_result"
    }
   ],
   "source": [
    "ip_freq.head()"
   ]
  },
  {
   "cell_type": "code",
   "execution_count": 37,
   "metadata": {},
   "outputs": [],
   "source": [
    "#merge the two dataframes together (inner join)\n",
    "ip_df = ip_counts.merge(ip_freq, on='ip')"
   ]
  },
  {
   "cell_type": "code",
   "execution_count": 38,
   "metadata": {},
   "outputs": [
    {
     "data": {
      "text/html": [
       "<div>\n",
       "<style scoped>\n",
       "    .dataframe tbody tr th:only-of-type {\n",
       "        vertical-align: middle;\n",
       "    }\n",
       "\n",
       "    .dataframe tbody tr th {\n",
       "        vertical-align: top;\n",
       "    }\n",
       "\n",
       "    .dataframe thead th {\n",
       "        text-align: right;\n",
       "    }\n",
       "</style>\n",
       "<table border=\"1\" class=\"dataframe\">\n",
       "  <thead>\n",
       "    <tr style=\"text-align: right;\">\n",
       "      <th></th>\n",
       "      <th>ip</th>\n",
       "      <th>ip_count</th>\n",
       "      <th>ip_percent</th>\n",
       "    </tr>\n",
       "  </thead>\n",
       "  <tbody>\n",
       "    <tr>\n",
       "      <th>0</th>\n",
       "      <td>97.105.19.58</td>\n",
       "      <td>11998</td>\n",
       "      <td>0.858595</td>\n",
       "    </tr>\n",
       "    <tr>\n",
       "      <th>1</th>\n",
       "      <td>173.173.113.51</td>\n",
       "      <td>1059</td>\n",
       "      <td>0.075784</td>\n",
       "    </tr>\n",
       "    <tr>\n",
       "      <th>2</th>\n",
       "      <td>72.181.113.170</td>\n",
       "      <td>613</td>\n",
       "      <td>0.043867</td>\n",
       "    </tr>\n",
       "    <tr>\n",
       "      <th>3</th>\n",
       "      <td>72.181.105.81</td>\n",
       "      <td>246</td>\n",
       "      <td>0.017604</td>\n",
       "    </tr>\n",
       "    <tr>\n",
       "      <th>4</th>\n",
       "      <td>68.201.219.223</td>\n",
       "      <td>21</td>\n",
       "      <td>0.001503</td>\n",
       "    </tr>\n",
       "  </tbody>\n",
       "</table>\n",
       "</div>"
      ],
      "text/plain": [
       "               ip  ip_count  ip_percent\n",
       "0    97.105.19.58     11998    0.858595\n",
       "1  173.173.113.51      1059    0.075784\n",
       "2  72.181.113.170       613    0.043867\n",
       "3   72.181.105.81       246    0.017604\n",
       "4  68.201.219.223        21    0.001503"
      ]
     },
     "execution_count": 38,
     "metadata": {},
     "output_type": "execute_result"
    }
   ],
   "source": [
    "ip_df.head()"
   ]
  },
  {
   "cell_type": "code",
   "execution_count": 39,
   "metadata": {},
   "outputs": [
    {
     "data": {
      "image/png": "[encoded data removed]",
      "text/plain": [
       "<Figure size 864x288 with 1 Axes>"
      ]
     },
     "metadata": {
      "needs_background": "light"
     },
     "output_type": "display_data"
    }
   ],
   "source": [
    "#visualize the percent of each ip address\n",
    "plt.figure(figsize=(12, 4))\n",
    "splot = sns.barplot(data=ip_df.head(10), x='ip', y='ip_percent')\n",
    "splot.set_xticklabels(splot.get_xticklabels(), rotation=90)\n",
    "plt.show()"
   ]
  },
  {
   "attachments": {},
   "cell_type": "markdown",
   "metadata": {},
   "source": [
    "### Conditional probability\n",
    "\n",
    "* what is the probability of event A happening given that event B has happened?\n",
    "* aka: the probability of both event A and event B happening divided by the probability of only B happening\n",
    "* in this case what is the probability of a specific status code given an IP address?"
   ]
  },
  {
   "cell_type": "code",
   "execution_count": 40,
   "metadata": {},
   "outputs": [
    {
     "data": {
      "text/plain": [
       "ip              status_code\n",
       "173.173.113.51  200             1059\n",
       "24.26.242.9     200               21\n",
       "3.88.129.158    200                1\n",
       "3.92.201.136    200                1\n",
       "34.207.64.242   200                1\n",
       "34.229.70.250   200                1\n",
       "35.174.209.2    200                1\n",
       "35.175.171.137  200                2\n",
       "45.23.250.16    200                1\n",
       "52.87.230.102   200                2\n",
       "52.90.165.200   200                1\n",
       "52.91.30.150    200                1\n",
       "54.145.52.184   200                1\n",
       "54.172.14.223   200                1\n",
       "68.201.219.223  200               21\n",
       "70.121.214.34   200                2\n",
       "72.181.105.81   200              246\n",
       "72.181.113.170  200              611\n",
       "                499                2\n",
       "97.105.19.58    200            11984\n",
       "                499               14\n",
       "dtype: int64"
      ]
     },
     "execution_count": 40,
     "metadata": {},
     "output_type": "execute_result"
    }
   ],
   "source": [
    "#get the count for ip and status code\n",
    "df.groupby([\"ip\", \"status_code\"]).size()"
   ]
  },
  {
   "cell_type": "code",
   "execution_count": 41,
   "metadata": {},
   "outputs": [],
   "source": [
    "#create a new dataframe with the the probability of each ip address getting a status code\n",
    "prob_a_and_b = df.groupby([\"ip\", \"status_code\"]).size() / len(df)"
   ]
  },
  {
   "cell_type": "code",
   "execution_count": 42,
   "metadata": {},
   "outputs": [
    {
     "data": {
      "text/plain": [
       "ip              status_code\n",
       "173.173.113.51  200            0.075784\n",
       "24.26.242.9     200            0.001503\n",
       "3.88.129.158    200            0.000072\n",
       "3.92.201.136    200            0.000072\n",
       "34.207.64.242   200            0.000072\n",
       "dtype: float64"
      ]
     },
     "execution_count": 42,
     "metadata": {},
     "output_type": "execute_result"
    }
   ],
   "source": [
    "prob_a_and_b.head()"
   ]
  },
  {
   "cell_type": "code",
   "execution_count": 43,
   "metadata": {},
   "outputs": [
    {
     "data": {
      "text/plain": [
       "ip\n",
       "173.173.113.51    0.075784\n",
       "24.26.242.9       0.001503\n",
       "3.88.129.158      0.000072\n",
       "3.92.201.136      0.000072\n",
       "34.207.64.242     0.000072\n",
       "dtype: float64"
      ]
     },
     "execution_count": 43,
     "metadata": {},
     "output_type": "execute_result"
    }
   ],
   "source": [
    "#probability of an ip \n",
    "prob_b = df.groupby(\"ip\").size() / len(df)\n",
    "prob_b.head()"
   ]
  },
  {
   "cell_type": "code",
   "execution_count": 52,
   "metadata": {},
   "outputs": [],
   "source": [
    "# Given a particular ip, what is probability of a certain status code and save it in a new dataframe\n",
    "status_given_ip = df.groupby('ip').status_code.value_counts(normalize=True).rename('prob').reset_index()"
   ]
  },
  {
   "cell_type": "code",
   "execution_count": 53,
   "metadata": {},
   "outputs": [
    {
     "data": {
      "text/html": [
       "<div>\n",
       "<style scoped>\n",
       "    .dataframe tbody tr th:only-of-type {\n",
       "        vertical-align: middle;\n",
       "    }\n",
       "\n",
       "    .dataframe tbody tr th {\n",
       "        vertical-align: top;\n",
       "    }\n",
       "\n",
       "    .dataframe thead th {\n",
       "        text-align: right;\n",
       "    }\n",
       "</style>\n",
       "<table border=\"1\" class=\"dataframe\">\n",
       "  <thead>\n",
       "    <tr style=\"text-align: right;\">\n",
       "      <th></th>\n",
       "      <th>ip</th>\n",
       "      <th>status_code</th>\n",
       "      <th>prob</th>\n",
       "    </tr>\n",
       "  </thead>\n",
       "  <tbody>\n",
       "    <tr>\n",
       "      <th>0</th>\n",
       "      <td>173.173.113.51</td>\n",
       "      <td>200</td>\n",
       "      <td>1.0</td>\n",
       "    </tr>\n",
       "    <tr>\n",
       "      <th>1</th>\n",
       "      <td>24.26.242.9</td>\n",
       "      <td>200</td>\n",
       "      <td>1.0</td>\n",
       "    </tr>\n",
       "    <tr>\n",
       "      <th>2</th>\n",
       "      <td>3.88.129.158</td>\n",
       "      <td>200</td>\n",
       "      <td>1.0</td>\n",
       "    </tr>\n",
       "    <tr>\n",
       "      <th>3</th>\n",
       "      <td>3.92.201.136</td>\n",
       "      <td>200</td>\n",
       "      <td>1.0</td>\n",
       "    </tr>\n",
       "    <tr>\n",
       "      <th>4</th>\n",
       "      <td>34.207.64.242</td>\n",
       "      <td>200</td>\n",
       "      <td>1.0</td>\n",
       "    </tr>\n",
       "  </tbody>\n",
       "</table>\n",
       "</div>"
      ],
      "text/plain": [
       "               ip status_code  prob\n",
       "0  173.173.113.51         200   1.0\n",
       "1     24.26.242.9         200   1.0\n",
       "2    3.88.129.158         200   1.0\n",
       "3    3.92.201.136         200   1.0\n",
       "4   34.207.64.242         200   1.0"
      ]
     },
     "execution_count": 53,
     "metadata": {},
     "output_type": "execute_result"
    }
   ],
   "source": [
    "status_given_ip.head()"
   ]
  },
  {
   "cell_type": "code",
   "execution_count": 54,
   "metadata": {},
   "outputs": [
    {
     "data": {
      "text/html": [
       "<div>\n",
       "<style scoped>\n",
       "    .dataframe tbody tr th:only-of-type {\n",
       "        vertical-align: middle;\n",
       "    }\n",
       "\n",
       "    .dataframe tbody tr th {\n",
       "        vertical-align: top;\n",
       "    }\n",
       "\n",
       "    .dataframe thead th {\n",
       "        text-align: right;\n",
       "    }\n",
       "</style>\n",
       "<table border=\"1\" class=\"dataframe\">\n",
       "  <thead>\n",
       "    <tr style=\"text-align: right;\">\n",
       "      <th></th>\n",
       "      <th>ip</th>\n",
       "      <th>status_code</th>\n",
       "      <th>prob</th>\n",
       "    </tr>\n",
       "  </thead>\n",
       "  <tbody>\n",
       "    <tr>\n",
       "      <th>17</th>\n",
       "      <td>72.181.113.170</td>\n",
       "      <td>200</td>\n",
       "      <td>0.996737</td>\n",
       "    </tr>\n",
       "    <tr>\n",
       "      <th>18</th>\n",
       "      <td>72.181.113.170</td>\n",
       "      <td>499</td>\n",
       "      <td>0.003263</td>\n",
       "    </tr>\n",
       "    <tr>\n",
       "      <th>19</th>\n",
       "      <td>97.105.19.58</td>\n",
       "      <td>200</td>\n",
       "      <td>0.998833</td>\n",
       "    </tr>\n",
       "    <tr>\n",
       "      <th>20</th>\n",
       "      <td>97.105.19.58</td>\n",
       "      <td>499</td>\n",
       "      <td>0.001167</td>\n",
       "    </tr>\n",
       "  </tbody>\n",
       "</table>\n",
       "</div>"
      ],
      "text/plain": [
       "                ip status_code      prob\n",
       "17  72.181.113.170         200  0.996737\n",
       "18  72.181.113.170         499  0.003263\n",
       "19    97.105.19.58         200  0.998833\n",
       "20    97.105.19.58         499  0.001167"
      ]
     },
     "execution_count": 54,
     "metadata": {},
     "output_type": "execute_result"
    }
   ],
   "source": [
    "#look for the ip were the prob is less than 100% as those ips have multiple status codes\n",
    "status_given_ip[status_given_ip.prob < 1]"
   ]
  },
  {
   "cell_type": "code",
   "execution_count": 56,
   "metadata": {},
   "outputs": [
    {
     "data": {
      "text/html": [
       "<div>\n",
       "<style scoped>\n",
       "    .dataframe tbody tr th:only-of-type {\n",
       "        vertical-align: middle;\n",
       "    }\n",
       "\n",
       "    .dataframe tbody tr th {\n",
       "        vertical-align: top;\n",
       "    }\n",
       "\n",
       "    .dataframe thead th {\n",
       "        text-align: right;\n",
       "    }\n",
       "</style>\n",
       "<table border=\"1\" class=\"dataframe\">\n",
       "  <thead>\n",
       "    <tr style=\"text-align: right;\">\n",
       "      <th></th>\n",
       "      <th>ip</th>\n",
       "      <th>status_code</th>\n",
       "      <th>prob</th>\n",
       "    </tr>\n",
       "  </thead>\n",
       "  <tbody>\n",
       "    <tr>\n",
       "      <th>18</th>\n",
       "      <td>72.181.113.170</td>\n",
       "      <td>499</td>\n",
       "      <td>0.003263</td>\n",
       "    </tr>\n",
       "    <tr>\n",
       "      <th>20</th>\n",
       "      <td>97.105.19.58</td>\n",
       "      <td>499</td>\n",
       "      <td>0.001167</td>\n",
       "    </tr>\n",
       "  </tbody>\n",
       "</table>\n",
       "</div>"
      ],
      "text/plain": [
       "                ip status_code      prob\n",
       "18  72.181.113.170         499  0.003263\n",
       "20    97.105.19.58         499  0.001167"
      ]
     },
     "execution_count": 56,
     "metadata": {},
     "output_type": "execute_result"
    }
   ],
   "source": [
    "#find the status codes other than 200 as those could be anomalies\n",
    "status_given_ip[status_given_ip.status_code != '200']"
   ]
  }
 ],
 "metadata": {
  "kernelspec": {
   "display_name": "base",
   "language": "python",
   "name": "python3"
  },
  "language_info": {
   "codemirror_mode": {
    "name": "ipython",
    "version": 3
   },
   "file_extension": ".py",
   "mimetype": "text/x-python",
   "name": "python",
   "nbconvert_exporter": "python",
   "pygments_lexer": "ipython3",
   "version": "3.8.8"
  },
  "orig_nbformat": 4
 },
 "nbformat": 4,
 "nbformat_minor": 2
}
